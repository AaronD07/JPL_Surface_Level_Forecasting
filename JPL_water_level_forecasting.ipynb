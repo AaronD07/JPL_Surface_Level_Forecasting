{
 "cells": [
  {
   "cell_type": "code",
   "execution_count": 1,
   "id": "a7ce9ebc-e940-41da-ba74-b98dd5f2333b",
   "metadata": {},
   "outputs": [],
   "source": [
    "import os\n",
    "import numpy as np\n",
    "import pandas as pd\n",
    "import torch\n",
    "import torch.nn as nn\n",
    "from torch.utils.data import Dataset, DataLoader\n",
    "import requests\n",
    "from io import StringIO\n",
    "import xarray as xr\n",
    "from bs4 import BeautifulSoup"
   ]
  },
  {
   "cell_type": "code",
   "execution_count": 2,
   "id": "61cc1158-4915-4b12-b99f-0e768e20b56f",
   "metadata": {},
   "outputs": [],
   "source": [
    "def get_latest_cora_url(base_url):\n",
    "    resp = requests.get(base_url); resp.raise_for_status()\n",
    "    soup = BeautifulSoup(resp.text, 'html.parser')\n",
    "    dirs = [a['href'] for a in soup.find_all('a', href=True) if a['href'].endswith('/')]\n",
    "    latest_dir = sorted(dirs)[-1]\n",
    "    dir_url = base_url + latest_dir\n",
    "    resp2 = requests.get(dir_url); resp2.raise_for_status()\n",
    "    soup2 = BeautifulSoup(resp2.text, 'html.parser')\n",
    "    files = [a['href'] for a in soup2.find_all('a', href=True) if a['href'].endswith('.nc')]\n",
    "    latest_file = sorted(files)[-1]\n",
    "    return dir_url + latest_file"
   ]
  },
  {
   "cell_type": "code",
   "execution_count": 3,
   "id": "662fca20-6f30-406c-b0c3-4d31134df66d",
   "metadata": {},
   "outputs": [],
   "source": [
    "def load_cora_patch(s3_base_url, start_date, end_date, lat, lon, window=3):\n",
    "    url = get_latest_cora_url(s3_base_url)\n",
    "    ds = xr.open_dataset(url)\n",
    "    ds = ds.sel(time=slice(start_date, end_date))\n",
    "    lat_i = np.argmin(np.abs(ds.lat - lat))\n",
    "    lon_i = np.argmin(np.abs(ds.lon - lon))\n",
    "    half = window // 2\n",
    "    patch = ds['sea_surface_height'][:,\n",
    "               lat_i-half:lat_i+half+1,\n",
    "               lon_i-half:lon_i+half+1]\n",
    "    monthly = patch.resample(time='M').mean()\n",
    "    return monthly.values.astype(np.float32)"
   ]
  },
  {
   "cell_type": "code",
   "execution_count": 4,
   "id": "6b760125-4262-43ca-90ac-275b2b2059cb",
   "metadata": {},
   "outputs": [],
   "source": [
    "def load_tide_patch(nc_url, time_var, level_var, start_date, end_date, lat, lon, window=3):\n",
    "    ds = xr.open_dataset(nc_url)\n",
    "    ds = ds.sel({time_var: slice(start_date, end_date)})\n",
    "    lat_i = np.argmin(np.abs(ds.lat - lat))\n",
    "    lon_i = np.argmin(np.abs(ds.lon - lon))\n",
    "    half = window // 2\n",
    "    patch = ds[level_var][:,\n",
    "               lat_i-half:lat_i+half+1,\n",
    "               lon_i-half:lon_i+half+1]\n",
    "    monthly = patch.resample({time_var: 'M'}).mean()\n",
    "    return monthly.values.astype(np.float32)"
   ]
  },
  {
   "cell_type": "code",
   "execution_count": 5,
   "id": "74d6a84c-8abc-4505-8e01-ac9766ebe05a",
   "metadata": {},
   "outputs": [],
   "source": [
    "def load_grace_patch(nc_path, lat, lon, window=3):\n",
    "    ds = xr.open_dataset(nc_path)\n",
    "    lat_i = np.argmin(np.abs(ds.lat - lat))\n",
    "    lon_i = np.argmin(np.abs(ds.lon - lon))\n",
    "    half = window // 2\n",
    "    patch = ds['water_equivalent_thickness'][:,\n",
    "               lat_i-half:lat_i+half+1,\n",
    "               lon_i-half:lon_i+half+1]\n",
    "    monthly = patch.resample(time='M').mean()\n",
    "    return monthly.values.astype(np.float32)"
   ]
  },
  {
   "cell_type": "code",
   "execution_count": 6,
   "id": "f8dcb455-3e5a-4bad-93d0-bbf2ad13dac2",
   "metadata": {},
   "outputs": [],
   "source": [
    "class SpatialTimeDataset(Dataset):\n",
    "    def __init__(self, tide, cora, grace, seq_len, pred_len):\n",
    "        self.data = [tide, cora, grace]\n",
    "        self.seq_len = seq_len\n",
    "        self.pred_len = pred_len\n",
    "        self.T = tide.shape[0]\n",
    "\n",
    "    def __len__(self):\n",
    "        return self.T - self.seq_len - self.pred_len + 1\n",
    "\n",
    "    def __getitem__(self, idx):\n",
    "        seqs = []\n",
    "        for arr in self.data:\n",
    "            seqs.append(arr[idx:idx+self.seq_len])\n",
    "        x = np.stack(seqs, axis=1) \n",
    "        target = self.data[0][idx+self.seq_len:idx+self.seq_len+self.pred_len]\n",
    "        y = target.mean(axis=(0,1,2))  \n",
    "        return torch.from_numpy(x), torch.tensor(y, dtype=torch.float32)\n"
   ]
  },
  {
   "cell_type": "code",
   "execution_count": 7,
   "id": "68f10d64-53d5-4b32-bd5b-86e27b577171",
   "metadata": {},
   "outputs": [],
   "source": [
    "class SpatialTemporalModel(nn.Module):\n",
    "    def __init__(self, config):\n",
    "        super().__init__()\n",
    "        C = 3\n",
    "        self.cnn = nn.Sequential(\n",
    "            nn.Conv2d(C, config['cnn_filters'], 3, padding=1), nn.ReLU(),\n",
    "            nn.Conv2d(config['cnn_filters'], config['cnn_filters'], 3, padding=1), nn.ReLU(),\n",
    "            nn.AdaptiveAvgPool2d((1,1))\n",
    "        )\n",
    "        d_model = config['d_model']\n",
    "        self.proj = nn.Linear(config['cnn_filters'], d_model)\n",
    "        encoder = nn.TransformerEncoderLayer(\n",
    "            d_model=d_model,\n",
    "            nhead=config['nhead'],\n",
    "            dim_feedforward=config['dim_feedforward'],\n",
    "            dropout=config['dropout'],\n",
    "            batch_first=True\n",
    "        )\n",
    "        self.transformer = nn.TransformerEncoder(encoder, num_layers=config['num_layers'])\n",
    "        self.head = nn.Linear(d_model, 1)\n",
    "\n",
    "    def forward(self, x):\n",
    "        # x: (batch, seq, C, H, W)\n",
    "        b, t, C, H, W = x.shape\n",
    "        x = x.view(b*t, C, H, W)\n",
    "        f = self.cnn(x).view(b, t, -1) \n",
    "        p = self.proj(f)                   \n",
    "        e = self.transformer(p) \n",
    "        out = e[:, -1, :] \n",
    "        return self.head(out).squeeze(-1)  "
   ]
  },
  {
   "cell_type": "code",
   "execution_count": 8,
   "id": "074d86a2-a28f-4d06-a89e-d4ad02d0d002",
   "metadata": {},
   "outputs": [],
   "source": [
    "def prepare_loaders(tide, cora, grace, config):\n",
    "    ds = SpatialTimeDataset(tide, cora, grace, config['seq_len'], config['pred_len'])\n",
    "    n_train = int(len(ds) * config['train_split'])\n",
    "    train_ds, val_ds = torch.utils.data.random_split(ds, [n_train, len(ds)-n_train])\n",
    "    return DataLoader(train_ds, config['batch_size'], shuffle=True), DataLoader(val_ds, config['batch_size'])"
   ]
  },
  {
   "cell_type": "code",
   "execution_count": 9,
   "id": "e83c07e6-bbd8-4792-a5f4-40e9325b3ea4",
   "metadata": {},
   "outputs": [],
   "source": [
    "def train_model(config):\n",
    "    tide = load_tide_patch(\n",
    "        config['tide_nc_url'], config['tide_time_var'], config['tide_level_var'],\n",
    "        config['start_date'], config['end_date'], config['lat'], config['lon'], config['window']\n",
    "    )\n",
    "    cora = load_cora_patch(\n",
    "        config['s3_base_url'], config['start_date'], config['end_date'], config['lat'], config['lon'], config['window']\n",
    "    )\n",
    "    grace = load_grace_patch(\n",
    "        config['grace_path'], config['lat'], config['lon'], config['window']\n",
    "    )\n",
    "    train_loader, val_loader = prepare_loaders(tide, cora, grace, config)\n",
    "    model = SpatialTemporalModel(config).to(config['device'])\n",
    "    opt = torch.optim.Adam(model.parameters(), lr=config['lr'])\n",
    "    loss_fn = nn.MSELoss()\n",
    "    for epoch in range(1, config['epochs']+1):\n",
    "        model.train()\n",
    "        train_losses = []\n",
    "        for x, y in train_loader:\n",
    "            x, y = x.to(config['device']), y.to(config['device'])\n",
    "            opt.zero_grad()\n",
    "            loss = loss_fn(model(x), y)\n",
    "            loss.backward()\n",
    "            opt.step()\n",
    "            train_losses.append(loss.item())\n",
    "        model.eval()\n",
    "        val_losses = [loss_fn(model(x.to(config['device'])), y.to(config['device'])).item() for x, y in val_loader]\n",
    "        print(f\"Epoch {epoch}/{config['epochs']} | Train: {np.mean(train_losses):.4f} | Val: {np.mean(val_losses):.4f}\")\n",
    "    return model"
   ]
  },
  {
   "cell_type": "code",
   "execution_count": 10,
   "id": "47c5dda2-5120-4bc3-9c7c-f960d90591ea",
   "metadata": {},
   "outputs": [
    {
     "ename": "HTTPError",
     "evalue": "404 Client Error: Not Found for url: https://noaa-nos-cora-pds.s3.amazonaws.com/V1.1/assimilated/native_grid/",
     "output_type": "error",
     "traceback": [
      "\u001b[31m---------------------------------------------------------------------------\u001b[39m",
      "\u001b[31mHTTPError\u001b[39m                                 Traceback (most recent call last)",
      "\u001b[36mCell\u001b[39m\u001b[36m \u001b[39m\u001b[32mIn[10]\u001b[39m\u001b[32m, line 17\u001b[39m\n\u001b[32m      2\u001b[39m config = {\n\u001b[32m      3\u001b[39m     \u001b[33m'\u001b[39m\u001b[33ms3_base_url\u001b[39m\u001b[33m'\u001b[39m: \u001b[33m'\u001b[39m\u001b[33mhttps://noaa-nos-cora-pds.s3.amazonaws.com/V1.1/assimilated/native_grid/\u001b[39m\u001b[33m'\u001b[39m,\n\u001b[32m      4\u001b[39m     \u001b[33m'\u001b[39m\u001b[33mtide_nc_url\u001b[39m\u001b[33m'\u001b[39m: \u001b[38;5;28;01mNone\u001b[39;00m, \n\u001b[32m   (...)\u001b[39m\u001b[32m     14\u001b[39m     \u001b[33m'\u001b[39m\u001b[33mdevice\u001b[39m\u001b[33m'\u001b[39m: \u001b[33m'\u001b[39m\u001b[33mcuda\u001b[39m\u001b[33m'\u001b[39m \u001b[38;5;28;01mif\u001b[39;00m torch.cuda.is_available() \u001b[38;5;28;01melse\u001b[39;00m \u001b[33m'\u001b[39m\u001b[33mcpu\u001b[39m\u001b[33m'\u001b[39m\n\u001b[32m     15\u001b[39m }\n\u001b[32m     16\u001b[39m \u001b[38;5;28;01mif\u001b[39;00m config[\u001b[33m'\u001b[39m\u001b[33mtide_nc_url\u001b[39m\u001b[33m'\u001b[39m] \u001b[38;5;129;01mis\u001b[39;00m \u001b[38;5;28;01mNone\u001b[39;00m:\n\u001b[32m---> \u001b[39m\u001b[32m17\u001b[39m     config[\u001b[33m'\u001b[39m\u001b[33mtide_nc_url\u001b[39m\u001b[33m'\u001b[39m] = \u001b[43mget_latest_cora_url\u001b[49m\u001b[43m(\u001b[49m\u001b[43mconfig\u001b[49m\u001b[43m[\u001b[49m\u001b[33;43m'\u001b[39;49m\u001b[33;43ms3_base_url\u001b[39;49m\u001b[33;43m'\u001b[39;49m\u001b[43m]\u001b[49m\u001b[43m)\u001b[49m\n\u001b[32m     18\u001b[39m model = train_model(config)\n\u001b[32m     19\u001b[39m torch.save(model.state_dict(), \u001b[33m'\u001b[39m\u001b[33mspatial_temporal_cnn_transformer.pth\u001b[39m\u001b[33m'\u001b[39m)\n",
      "\u001b[36mCell\u001b[39m\u001b[36m \u001b[39m\u001b[32mIn[2]\u001b[39m\u001b[32m, line 2\u001b[39m, in \u001b[36mget_latest_cora_url\u001b[39m\u001b[34m(base_url)\u001b[39m\n\u001b[32m      1\u001b[39m \u001b[38;5;28;01mdef\u001b[39;00m\u001b[38;5;250m \u001b[39m\u001b[34mget_latest_cora_url\u001b[39m(base_url):\n\u001b[32m----> \u001b[39m\u001b[32m2\u001b[39m     resp = requests.get(base_url); \u001b[43mresp\u001b[49m\u001b[43m.\u001b[49m\u001b[43mraise_for_status\u001b[49m\u001b[43m(\u001b[49m\u001b[43m)\u001b[49m\n\u001b[32m      3\u001b[39m     soup = BeautifulSoup(resp.text, \u001b[33m'\u001b[39m\u001b[33mhtml.parser\u001b[39m\u001b[33m'\u001b[39m)\n\u001b[32m      4\u001b[39m     dirs = [a[\u001b[33m'\u001b[39m\u001b[33mhref\u001b[39m\u001b[33m'\u001b[39m] \u001b[38;5;28;01mfor\u001b[39;00m a \u001b[38;5;129;01min\u001b[39;00m soup.find_all(\u001b[33m'\u001b[39m\u001b[33ma\u001b[39m\u001b[33m'\u001b[39m, href=\u001b[38;5;28;01mTrue\u001b[39;00m) \u001b[38;5;28;01mif\u001b[39;00m a[\u001b[33m'\u001b[39m\u001b[33mhref\u001b[39m\u001b[33m'\u001b[39m].endswith(\u001b[33m'\u001b[39m\u001b[33m/\u001b[39m\u001b[33m'\u001b[39m)]\n",
      "\u001b[36mFile \u001b[39m\u001b[32m/Library/Frameworks/Python.framework/Versions/3.12/lib/python3.12/site-packages/requests/models.py:1024\u001b[39m, in \u001b[36mResponse.raise_for_status\u001b[39m\u001b[34m(self)\u001b[39m\n\u001b[32m   1019\u001b[39m     http_error_msg = (\n\u001b[32m   1020\u001b[39m         \u001b[33mf\u001b[39m\u001b[33m\"\u001b[39m\u001b[38;5;132;01m{\u001b[39;00m\u001b[38;5;28mself\u001b[39m.status_code\u001b[38;5;132;01m}\u001b[39;00m\u001b[33m Server Error: \u001b[39m\u001b[38;5;132;01m{\u001b[39;00mreason\u001b[38;5;132;01m}\u001b[39;00m\u001b[33m for url: \u001b[39m\u001b[38;5;132;01m{\u001b[39;00m\u001b[38;5;28mself\u001b[39m.url\u001b[38;5;132;01m}\u001b[39;00m\u001b[33m\"\u001b[39m\n\u001b[32m   1021\u001b[39m     )\n\u001b[32m   1023\u001b[39m \u001b[38;5;28;01mif\u001b[39;00m http_error_msg:\n\u001b[32m-> \u001b[39m\u001b[32m1024\u001b[39m     \u001b[38;5;28;01mraise\u001b[39;00m HTTPError(http_error_msg, response=\u001b[38;5;28mself\u001b[39m)\n",
      "\u001b[31mHTTPError\u001b[39m: 404 Client Error: Not Found for url: https://noaa-nos-cora-pds.s3.amazonaws.com/V1.1/assimilated/native_grid/"
     ]
    }
   ],
   "source": [
    "if __name__ == '__main__':\n",
    "    config = {\n",
    "        's3_base_url': 'https://noaa-nos-cora-pds.s3.amazonaws.com/V1.1/assimilated/native_grid/',\n",
    "        'tide_nc_url': None, \n",
    "        'tide_time_var': 'time',\n",
    "        'tide_level_var': 'zeta',\n",
    "        'grace_path': '/data/GRACE_DA_NLDAS_0.25deg.nc',\n",
    "        'start_date': '2010-01-01', 'end_date': '2023-12-31',\n",
    "        'lat': 37.7749, 'lon': -122.4194, 'window': 3,\n",
    "        'seq_len': 12, 'pred_len': 1,\n",
    "        'cnn_filters': 16, 'd_model': 64, 'nhead': 4, 'num_layers': 2,\n",
    "        'dim_feedforward': 128, 'dropout': 0.1,\n",
    "        'batch_size': 32, 'train_split': 0.8, 'lr': 1e-3, 'epochs': 20,\n",
    "        'device': 'cuda' if torch.cuda.is_available() else 'cpu'\n",
    "    }\n",
    "    if config['tide_nc_url'] is None:\n",
    "        config['tide_nc_url'] = get_latest_cora_url(config['s3_base_url'])\n",
    "    model = train_model(config)\n",
    "    torch.save(model.state_dict(), 'spatial_temporal_cnn_transformer.pth')\n"
   ]
  }
 ],
 "metadata": {
  "kernelspec": {
   "display_name": "Python 3 (ipykernel)",
   "language": "python",
   "name": "python3"
  },
  "language_info": {
   "codemirror_mode": {
    "name": "ipython",
    "version": 3
   },
   "file_extension": ".py",
   "mimetype": "text/x-python",
   "name": "python",
   "nbconvert_exporter": "python",
   "pygments_lexer": "ipython3",
   "version": "3.12.7"
  }
 },
 "nbformat": 4,
 "nbformat_minor": 5
}
