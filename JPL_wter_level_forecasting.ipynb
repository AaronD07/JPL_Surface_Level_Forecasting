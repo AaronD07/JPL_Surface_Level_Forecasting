{
 "cells": [
  {
   "cell_type": "code",
   "execution_count": 1,
   "id": "a7ce9ebc-e940-41da-ba74-b98dd5f2333b",
   "metadata": {},
   "outputs": [],
   "source": [
    "import torch\n",
    "import torch.nn as nn\n",
    "import os\n",
    "from torch.utils.data import Dataset, DataLoader"
   ]
  },
  {
   "cell_type": "code",
   "execution_count": 2,
   "id": "74d6a84c-8abc-4505-8e01-ac9766ebe05a",
   "metadata": {},
   "outputs": [],
   "source": [
    "\n",
    "#Need to decide if the input data is going to be graphical or numbers\n",
    "\n",
    "class CoastalDataset(Dataset):\n",
    "  #Load in data here\n",
    "  def __init__ (self,data_dir, seq_len=24, transform=None):\n",
    "    self.seq_len = seq_len\n",
    "    self.data_dir = data_dir\n",
    "    self.transform = transform\n",
    "    self.data_files = os.listdir(data_dir)\n",
    "\n",
    "  def __len__(self):\n",
    "    return len(self.data_files)\n",
    "\n",
    "  def __getitem__(self, idx):\n",
    "    file_path = os.path.join(self.data_dir, self.data_files[idx])\n",
    "    data = torch.load(file_path)\n",
    "    x = sample['x']\n",
    "    u = sample['u']\n",
    "    y = sample['y']\n",
    "    coords = sample.get('coords', None)\n",
    "    if self.transform:\n",
    "      x = self.transform(x)\n",
    "      u = self.transform(u)\n",
    "      y = self.transform(y)\n",
    "\n",
    "    return x, u, y, coords"
   ]
  },
  {
   "cell_type": "code",
   "execution_count": 3,
   "id": "6b760125-4262-43ca-90ac-275b2b2059cb",
   "metadata": {},
   "outputs": [
    {
     "ename": "SyntaxError",
     "evalue": "'(' was never closed (1157437047.py, line 15)",
     "output_type": "error",
     "traceback": [
      "  \u001b[36mCell\u001b[39m\u001b[36m \u001b[39m\u001b[32mIn[3]\u001b[39m\u001b[32m, line 15\u001b[39m\n\u001b[31m    \u001b[39m\u001b[31mdef __init__(self,\u001b[39m\n                ^\n\u001b[31mSyntaxError\u001b[39m\u001b[31m:\u001b[39m '(' was never closed\n"
     ]
    }
   ],
   "source": [
    "class SpaceTimeFormer(nn.Module):\n",
    "  def __init__(self, input_dim, hidden_dim, num_heads, num_layers, dropout):\n",
    "    super(SpaceTimeFormer, self).__init__()\n",
    "\n",
    "    #Implement CNN encoder if graphical. Or maybe view data as Graph G=(V,E) with n nodes and use GNN encoder+decoder?\n",
    "    self.encoder = nn.TransformerEncoder(\n",
    "      nn.TransformerEncoderLayer(d_model=input_dim, nhead=num_heads, dim_feedforward=hidden_dim, dropout=dropout),\n",
    "      num_layers=num_layers\n",
    "    )\n",
    "\n",
    "\n",
    "#This is where we need to implement the governing equations\n",
    "#Tide propogation based on aquifer properties\n",
    "class PINNLoss(nn.Module):\n",
    "  def __init__(self,\n",
    "\n",
    "class OnlineEnsemble(nn.Module):\n",
    "  def __init__(self, num_models, model_class, **kwargs):\n",
    "    self.num_models = num_models\n",
    "    self.models = nn.ModuleList([model_class(**kwargs) for _ in range(num_models)])\n",
    "#Add some uncertainty quantification – MC dropout?"
   ]
  },
  {
   "cell_type": "code",
   "execution_count": null,
   "id": "f8dcb455-3e5a-4bad-93d0-bbf2ad13dac2",
   "metadata": {},
   "outputs": [],
   "source": []
  }
 ],
 "metadata": {
  "kernelspec": {
   "display_name": "Python 3 (ipykernel)",
   "language": "python",
   "name": "python3"
  },
  "language_info": {
   "codemirror_mode": {
    "name": "ipython",
    "version": 3
   },
   "file_extension": ".py",
   "mimetype": "text/x-python",
   "name": "python",
   "nbconvert_exporter": "python",
   "pygments_lexer": "ipython3",
   "version": "3.12.7"
  }
 },
 "nbformat": 4,
 "nbformat_minor": 5
}
